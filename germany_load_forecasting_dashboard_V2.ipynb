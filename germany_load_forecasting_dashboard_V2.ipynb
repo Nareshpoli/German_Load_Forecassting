{
 "cells": [
  {
   "cell_type": "code",
   "execution_count": 20,
   "id": "bdc5e5e6",
   "metadata": {},
   "outputs": [],
   "source": [
    "import streamlit as st\n",
    "import pandas as pd\n",
    "import joblib\n",
    "import plotly.graph_objects as go\n",
    "import datetime\n",
    "import numpy as np"
   ]
  },
  {
   "cell_type": "code",
   "execution_count": 21,
   "id": "1506d037",
   "metadata": {},
   "outputs": [
    {
     "name": "stderr",
     "output_type": "stream",
     "text": [
      "2025-07-19 10:23:25.848 Thread 'MainThread': missing ScriptRunContext! This warning can be ignored when running in bare mode.\n"
     ]
    }
   ],
   "source": [
    "st.set_page_config(\n",
    "    page_title=\" Germany Load Forecast\",\n",
    "    page_icon=\"⚡\",\n",
    "    layout=\"wide\",\n",
    "    initial_sidebar_state=\"collapsed\",\n",
    "    menu_items={\n",
    "        'Get Help': 'https://your-help-url.com',\n",
    "        'Report a bug': 'https://your-bug-report.com',\n",
    "        'About': \"# Load Forecasting App\\nBuilt with Streamlit and XGBoost.\"\n",
    "    }\n",
    ")"
   ]
  },
  {
   "cell_type": "code",
   "execution_count": 22,
   "id": "6fad8a6b",
   "metadata": {},
   "outputs": [
    {
     "name": "stderr",
     "output_type": "stream",
     "text": [
      "2025-07-19 10:23:26.189 Thread 'MainThread': missing ScriptRunContext! This warning can be ignored when running in bare mode.\n",
      "2025-07-19 10:23:26.190 Thread 'MainThread': missing ScriptRunContext! This warning can be ignored when running in bare mode.\n",
      "2025-07-19 10:23:26.192 Thread 'MainThread': missing ScriptRunContext! This warning can be ignored when running in bare mode.\n",
      "2025-07-19 10:23:26.193 Thread 'MainThread': missing ScriptRunContext! This warning can be ignored when running in bare mode.\n",
      "2025-07-19 10:23:26.195 Thread 'MainThread': missing ScriptRunContext! This warning can be ignored when running in bare mode.\n",
      "2025-07-19 10:23:26.199 Thread 'MainThread': missing ScriptRunContext! This warning can be ignored when running in bare mode.\n"
     ]
    }
   ],
   "source": [
    "st.title(\"⚡ Germany Load Forecasting Dashboard\")\n",
    "st.write(\"Welcome! Use the sidebar and buttons to explore the forecasts.\")"
   ]
  },
  {
   "cell_type": "code",
   "execution_count": 23,
   "id": "b2abaf4a",
   "metadata": {},
   "outputs": [],
   "source": [
    "# Load the saved model and data\n",
    "model = joblib.load(\"xgb_load_forecast_model.pkl\")\n",
    "data = pd.read_csv(\"test_predictions.csv\", parse_dates=[\"Time\"])\n",
    "data[\"Time\"] = pd.to_datetime(data[\"Time\"])\n",
    "\n"
   ]
  },
  {
   "cell_type": "code",
   "execution_count": 24,
   "id": "ffdf5bae",
   "metadata": {},
   "outputs": [
    {
     "name": "stderr",
     "output_type": "stream",
     "text": [
      "2025-07-19 10:23:26.826 Thread 'MainThread': missing ScriptRunContext! This warning can be ignored when running in bare mode.\n",
      "2025-07-19 10:23:26.828 Thread 'MainThread': missing ScriptRunContext! This warning can be ignored when running in bare mode.\n",
      "2025-07-19 10:23:26.830 Thread 'MainThread': missing ScriptRunContext! This warning can be ignored when running in bare mode.\n",
      "2025-07-19 10:23:26.835 Thread 'MainThread': missing ScriptRunContext! This warning can be ignored when running in bare mode.\n",
      "2025-07-19 10:23:26.837 Thread 'MainThread': missing ScriptRunContext! This warning can be ignored when running in bare mode.\n",
      "2025-07-19 10:23:26.845 Thread 'MainThread': missing ScriptRunContext! This warning can be ignored when running in bare mode.\n",
      "2025-07-19 10:23:26.847 Thread 'MainThread': missing ScriptRunContext! This warning can be ignored when running in bare mode.\n",
      "2025-07-19 10:23:26.847 Thread 'MainThread': missing ScriptRunContext! This warning can be ignored when running in bare mode.\n",
      "2025-07-19 10:23:26.851 Thread 'MainThread': missing ScriptRunContext! This warning can be ignored when running in bare mode.\n"
     ]
    }
   ],
   "source": [
    "#Date Filter\n",
    "st.subheader(\"Load Forecasting Results\")\n",
    "selected_date = st.date_input(\"Select a date to view:\", value=data[\"Time\"].dt.date.iloc[0])\n",
    "\n",
    "# Filter selected day's data\n",
    "filtered_df = data[data[\"Time\"].dt.date == selected_date]"
   ]
  },
  {
   "cell_type": "code",
   "execution_count": 25,
   "id": "50544b60",
   "metadata": {},
   "outputs": [
    {
     "name": "stderr",
     "output_type": "stream",
     "text": [
      "2025-07-19 10:23:27.153 Thread 'MainThread': missing ScriptRunContext! This warning can be ignored when running in bare mode.\n",
      "2025-07-19 10:23:27.161 Thread 'MainThread': missing ScriptRunContext! This warning can be ignored when running in bare mode.\n",
      "2025-07-19 10:23:27.162 Thread 'MainThread': missing ScriptRunContext! This warning can be ignored when running in bare mode.\n",
      "2025-07-19 10:23:27.163 Thread 'MainThread': missing ScriptRunContext! This warning can be ignored when running in bare mode.\n",
      "2025-07-19 10:23:27.165 Thread 'MainThread': missing ScriptRunContext! This warning can be ignored when running in bare mode.\n"
     ]
    },
    {
     "data": {
      "text/plain": [
       "DeltaGenerator()"
      ]
     },
     "execution_count": 25,
     "metadata": {},
     "output_type": "execute_result"
    }
   ],
   "source": [
    "# ------------------ Plot 1: Actual vs Predicted ------------------\n",
    "fig = go.Figure()\n",
    "fig.add_trace(go.Scatter(x=filtered_df[\"Time\"], y=filtered_df[\"Actual_Load\"], mode=\"lines+markers\", name=\"Actual Load\"))\n",
    "fig.add_trace(go.Scatter(x=filtered_df[\"Time\"], y=filtered_df[\"Predicted_Load\"], mode=\"lines+markers\", name=\"Predicted Load\"))\n",
    "\n",
    "fig.update_layout(\n",
    "    title=\"Actual vs Predicted Load\",\n",
    "    xaxis_title=\"Time\",\n",
    "    yaxis_title=\"Load (MW)\",\n",
    "    legend_title=\"Legend\",\n",
    "    height=500)\n",
    "\n",
    "st.plotly_chart(fig, use_container_width=True)"
   ]
  },
  {
   "cell_type": "code",
   "execution_count": 26,
   "id": "3ab06887",
   "metadata": {},
   "outputs": [
    {
     "name": "stderr",
     "output_type": "stream",
     "text": [
      "2025-07-19 10:23:27.420 Thread 'MainThread': missing ScriptRunContext! This warning can be ignored when running in bare mode.\n",
      "2025-07-19 10:23:27.422 Thread 'MainThread': missing ScriptRunContext! This warning can be ignored when running in bare mode.\n",
      "2025-07-19 10:23:27.424 Thread 'MainThread': missing ScriptRunContext! This warning can be ignored when running in bare mode.\n"
     ]
    },
    {
     "data": {
      "text/plain": [
       "DeltaGenerator()"
      ]
     },
     "execution_count": 26,
     "metadata": {},
     "output_type": "execute_result"
    }
   ],
   "source": [
    "\n",
    "# ------------------ MAE Metric ------------------\n",
    "mae = (filtered_df[\"Actual_Load\"] - filtered_df[\"Predicted_Load\"]).abs().mean()\n",
    "st.metric(\"MAE (Mean Absolute Error)\", f\"{mae:.2f} MW\")"
   ]
  },
  {
   "cell_type": "code",
   "execution_count": 27,
   "id": "67d9891c",
   "metadata": {},
   "outputs": [
    {
     "name": "stderr",
     "output_type": "stream",
     "text": [
      "2025-07-19 10:23:27.767 Thread 'MainThread': missing ScriptRunContext! This warning can be ignored when running in bare mode.\n",
      "2025-07-19 10:23:27.768 Thread 'MainThread': missing ScriptRunContext! This warning can be ignored when running in bare mode.\n",
      "2025-07-19 10:23:27.769 Thread 'MainThread': missing ScriptRunContext! This warning can be ignored when running in bare mode.\n",
      "2025-07-19 10:23:27.781 Thread 'MainThread': missing ScriptRunContext! This warning can be ignored when running in bare mode.\n",
      "2025-07-19 10:23:27.784 Thread 'MainThread': missing ScriptRunContext! This warning can be ignored when running in bare mode.\n",
      "2025-07-19 10:23:27.785 Thread 'MainThread': missing ScriptRunContext! This warning can be ignored when running in bare mode.\n",
      "2025-07-19 10:23:27.787 Thread 'MainThread': missing ScriptRunContext! This warning can be ignored when running in bare mode.\n",
      "2025-07-19 10:23:27.787 Thread 'MainThread': missing ScriptRunContext! This warning can be ignored when running in bare mode.\n",
      "2025-07-19 10:23:27.787 Thread 'MainThread': missing ScriptRunContext! This warning can be ignored when running in bare mode.\n"
     ]
    }
   ],
   "source": [
    "# ------------------ Future Forecast ------------------\n",
    "st.subheader(\"Future Load Forecast\")\n",
    "if st.button(\"Forecast for next 7 days\"):\n",
    "    future_dates = pd.date_range(start=data[\"Time\"].max() + pd.Timedelta(hours=1), periods=7*24, freq=\"H\")\n",
    "    \n",
    "    \n",
    "    \n",
    "    future_features = pd.DataFrame({\n",
    "        \"hour\": future_dates.hour,\n",
    "        \"day\": future_dates.day,\n",
    "        \"weekday\": future_dates.dayofweek,\n",
    "        \"month\": future_dates.month,\n",
    "        \"lag_1h\": 0,         # set all lag_1h to zero\n",
    "        \"lag_24h\": 0         # set all lag_24h to zero\n",
    "    })\n",
    "    predictions = model.predict(future_features)\n",
    "    future_df = pd.DataFrame({\"Time\": future_dates,\"Predicted Load\": predictions})\n",
    "    \n",
    "    \n",
    "    fig2 = go.Figure()\n",
    "    fig2.add_trace(go.Scatter(x=future_df[\"Time\"], y=future_df[\"Predicted Load\"], mode=\"lines+markers\", name=\"Forecasted Load\"))\n",
    "    fig2.update_layout(title=\"Forecast for Next 7 Days\",xaxis_title=\"Date\",yaxis_title=\"Predicted Load (MW)\",height=500)\n",
    "    st.plotly_chart(fig2, use_container_width=True)\n",
    "    st.write(\"Press the button to see the next 7 day forecast\")"
   ]
  },
  {
   "cell_type": "code",
   "execution_count": null,
   "id": "6ba84ccd",
   "metadata": {},
   "outputs": [],
   "source": []
  },
  {
   "cell_type": "code",
   "execution_count": null,
   "id": "1ea87103",
   "metadata": {},
   "outputs": [],
   "source": []
  },
  {
   "cell_type": "code",
   "execution_count": null,
   "id": "c1fa1578",
   "metadata": {},
   "outputs": [],
   "source": []
  }
 ],
 "metadata": {
  "kernelspec": {
   "display_name": "Python 3 (ipykernel)",
   "language": "python",
   "name": "python3"
  },
  "language_info": {
   "codemirror_mode": {
    "name": "ipython",
    "version": 3
   },
   "file_extension": ".py",
   "mimetype": "text/x-python",
   "name": "python",
   "nbconvert_exporter": "python",
   "pygments_lexer": "ipython3",
   "version": "3.10.9"
  }
 },
 "nbformat": 4,
 "nbformat_minor": 5
}

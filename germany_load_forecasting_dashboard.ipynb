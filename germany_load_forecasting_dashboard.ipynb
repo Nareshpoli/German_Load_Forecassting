{
 "cells": [
  {
   "cell_type": "code",
   "execution_count": 1,
   "id": "4dc08608",
   "metadata": {},
   "outputs": [],
   "source": [
    "import streamlit as st\n",
    "import pandas as pd\n",
    "import joblib\n",
    "import matplotlib.pyplot as plt"
   ]
  },
  {
   "cell_type": "code",
   "execution_count": 2,
   "id": "ca7d0847",
   "metadata": {},
   "outputs": [
    {
     "name": "stderr",
     "output_type": "stream",
     "text": [
      "2025-07-16 23:19:42.771 WARNING streamlit.runtime.scriptrunner_utils.script_run_context: Thread 'MainThread': missing ScriptRunContext! This warning can be ignored when running in bare mode.\n"
     ]
    }
   ],
   "source": [
    "st.set_page_config(\n",
    "    page_title=\"⚡ Germany Load Forecast\",\n",
    "    page_icon=\"⚡\",\n",
    "    layout=\"wide\",\n",
    "    initial_sidebar_state=\"collapsed\",\n",
    "    menu_items={\n",
    "        'Get Help': 'https://your-help-url.com',\n",
    "        'Report a bug': 'https://your-bug-report.com',\n",
    "        'About': \"# Load Forecasting App\\nBuilt with Streamlit and XGBoost.\"\n",
    "    }\n",
    ")"
   ]
  },
  {
   "cell_type": "code",
   "execution_count": null,
   "id": "c40fc0e2",
   "metadata": {},
   "outputs": [],
   "source": [
    "\n",
    "\n",
    "# Load model and data\n",
    "model = joblib.load(\"xgb_load_forecast_model.pkl\")\n",
    "data = pd.read_csv(\"test_predictions.csv\", parse_dates=[\"Time\"])\n",
    "\n",
    "# Streamlit App\n",
    "st.title(\"Germany Load Forecasting Dashboard\")\n",
    "st.markdown(\"This dashboard visualizes predicted vs actual electricity load using an XGBoost model.\")\n",
    "\n",
    "# Plot section\n",
    "st.subheader(\"Load Forecasting Results\")\n",
    "selected_date = st.date_input(\"Select a date to view:\", value=data[\"Time\"].dt.date.iloc[0])\n",
    "\n",
    "# Filter data\n",
    "day_data = data[data[\"Time\"].dt.date == selected_date]\n",
    "\n",
    "# Plot\n",
    "fig, ax = plt.subplots(figsize=(10, 4))\n",
    "ax.plot(day_data[\"Time\"], day_data[\"Actual_Load\"], label=\"Actual\", marker='o')\n",
    "ax.plot(day_data[\"Time\"], day_data[\"Predicted_Load\"], label=\"Predicted\", marker='x')\n",
    "ax.set_title(f\"Load Forecasting for {selected_date}\")\n",
    "ax.set_ylabel(\"Load (MW)\")\n",
    "ax.legend()\n",
    "plt.xticks(rotation=45)\n",
    "st.pyplot(fig)\n",
    "\n",
    "# Metrics\n",
    "mae = (day_data[\"Actual_Load\"] - day_data[\"Predicted_Load\"]).abs().mean()\n",
    "st.metric(\"MAE (Mean Absolute Error)\", f\"{mae:.2f} MW\")\n"
   ]
  },
  {
   "cell_type": "code",
   "execution_count": null,
   "id": "6afadce8",
   "metadata": {},
   "outputs": [],
   "source": []
  },
  {
   "cell_type": "code",
   "execution_count": null,
   "id": "eb64c55d",
   "metadata": {},
   "outputs": [],
   "source": []
  },
  {
   "cell_type": "code",
   "execution_count": null,
   "id": "3e919108",
   "metadata": {},
   "outputs": [],
   "source": []
  }
 ],
 "metadata": {
  "kernelspec": {
   "display_name": "Python 3 (ipykernel)",
   "language": "python",
   "name": "python3"
  },
  "language_info": {
   "codemirror_mode": {
    "name": "ipython",
    "version": 3
   },
   "file_extension": ".py",
   "mimetype": "text/x-python",
   "name": "python",
   "nbconvert_exporter": "python",
   "pygments_lexer": "ipython3",
   "version": "3.10.9"
  }
 },
 "nbformat": 4,
 "nbformat_minor": 5
}
